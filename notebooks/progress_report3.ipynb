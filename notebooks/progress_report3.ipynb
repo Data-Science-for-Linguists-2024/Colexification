{
 "cells": [
  {
   "cell_type": "markdown",
   "id": "845c56f4-303c-4314-87aa-0573a1173a07",
   "metadata": {},
   "source": [
    "# Progress Report 3\n",
    "\n",
    "- Author: Teresa Davison\n",
    "- Email: tid30@pitt.edu\n",
    "- Class/Professor: LING1340 Na-Rae Han\n",
    "- Date: Apr 4, 2024\n",
    "\n",
    "This is a continuation from progress reports 1 and 2."
   ]
  },
  {
   "cell_type": "markdown",
   "id": "8b2a4053-b1c5-4843-92c3-14e3ec1bf967",
   "metadata": {},
   "source": [
    "## Load data & packages"
   ]
  },
  {
   "cell_type": "code",
   "execution_count": 1,
   "id": "d8da4584-39a3-4724-9d93-4e0c5fda7f0a",
   "metadata": {},
   "outputs": [],
   "source": [
    "#load necessary packages\n",
    "import pickle\n",
    "import pandas as pd\n",
    "import plotly.express as px\n",
    "import matplotlib as plt"
   ]
  },
  {
   "cell_type": "code",
   "execution_count": 59,
   "id": "e564514b-7b31-4167-bc47-d9a8eceb8af7",
   "metadata": {},
   "outputs": [],
   "source": [
    "#Load the dataframes from the pickle object (in my private directory)\n",
    "l_df = pd.read_pickle(\"../private/l_df.pkl\")\n",
    "p_df = pd.read_pickle(\"../private/p_df.pkl\")\n",
    "f_df = pd.read_pickle(\"../private/f_df.pkl\")"
   ]
  },
  {
   "cell_type": "code",
   "execution_count": 61,
   "id": "d7049589-58b5-47ef-a81b-93a4034c1ea7",
   "metadata": {},
   "outputs": [
    {
     "name": "stdout",
     "output_type": "stream",
     "text": [
      "<class 'pandas.core.frame.DataFrame'>\n",
      "RangeIndex: 3248 entries, 0 to 3247\n",
      "Data columns (total 10 columns):\n",
      " #   Column          Non-Null Count  Dtype  \n",
      "---  ------          --------------  -----  \n",
      " 0   ID              3248 non-null   object \n",
      " 1   Name            3248 non-null   object \n",
      " 2   Glottocode      3164 non-null   object \n",
      " 3   Glottolog_Name  2614 non-null   object \n",
      " 4   ISO639P3code    2820 non-null   object \n",
      " 5   Macroarea       2961 non-null   object \n",
      " 6   Latitude        2684 non-null   float64\n",
      " 7   Longitude       2684 non-null   float64\n",
      " 8   Family          3163 non-null   object \n",
      " 9   dataset_ID      3248 non-null   object \n",
      "dtypes: float64(2), object(8)\n",
      "memory usage: 253.9+ KB\n"
     ]
    }
   ],
   "source": [
    "#I cleaned the df's to exclude the unused columns, for space efficiency.\n",
    "l_df.info()"
   ]
  },
  {
   "cell_type": "markdown",
   "id": "4ef42dba-fa3a-4fb6-8bb4-40c0136af06c",
   "metadata": {},
   "source": [
    "## Create Features\n",
    "\n",
    "Since it takes so long to create the features, I'm going to narrow down my analysis to a random sample of 100 that have info for the Family, Macroarea, and Lat/Longitude."
   ]
  },
  {
   "cell_type": "code",
   "execution_count": 65,
   "id": "07d4e09d-4ada-4102-bd73-5aa497510235",
   "metadata": {},
   "outputs": [],
   "source": [
    "#Let's see if we can use languages that have above 800 forms\n",
    "form_count_dict = f_df.Glottocode.value_counts().to_dict()"
   ]
  },
  {
   "cell_type": "code",
   "execution_count": 69,
   "id": "b77846b0-a16f-4310-a401-29c5eec1e954",
   "metadata": {},
   "outputs": [
    {
     "data": {
      "text/html": [
       "<div>\n",
       "<style scoped>\n",
       "    .dataframe tbody tr th:only-of-type {\n",
       "        vertical-align: middle;\n",
       "    }\n",
       "\n",
       "    .dataframe tbody tr th {\n",
       "        vertical-align: top;\n",
       "    }\n",
       "\n",
       "    .dataframe thead th {\n",
       "        text-align: right;\n",
       "    }\n",
       "</style>\n",
       "<table border=\"1\" class=\"dataframe\">\n",
       "  <thead>\n",
       "    <tr style=\"text-align: right;\">\n",
       "      <th></th>\n",
       "      <th>ID</th>\n",
       "      <th>Name</th>\n",
       "      <th>Glottocode</th>\n",
       "      <th>Glottolog_Name</th>\n",
       "      <th>ISO639P3code</th>\n",
       "      <th>Macroarea</th>\n",
       "      <th>Latitude</th>\n",
       "      <th>Longitude</th>\n",
       "      <th>Family</th>\n",
       "      <th>dataset_ID</th>\n",
       "      <th>Form_count</th>\n",
       "    </tr>\n",
       "  </thead>\n",
       "  <tbody>\n",
       "    <tr>\n",
       "      <th>0</th>\n",
       "      <td>Venetianstd</td>\n",
       "      <td>Venetian-std</td>\n",
       "      <td>vene1258</td>\n",
       "      <td>Venetian</td>\n",
       "      <td>vec</td>\n",
       "      <td>Eurasia</td>\n",
       "      <td>45.503581</td>\n",
       "      <td>12.214167</td>\n",
       "      <td>Indo-European</td>\n",
       "      <td>logos</td>\n",
       "      <td>625.0</td>\n",
       "    </tr>\n",
       "    <tr>\n",
       "      <th>1</th>\n",
       "      <td>Hindistd</td>\n",
       "      <td>Hindi-std</td>\n",
       "      <td>hind1269</td>\n",
       "      <td>Hindi</td>\n",
       "      <td>hin</td>\n",
       "      <td>Eurasia</td>\n",
       "      <td>25.000000</td>\n",
       "      <td>77.000000</td>\n",
       "      <td>Indo-European</td>\n",
       "      <td>logos</td>\n",
       "      <td>3831.0</td>\n",
       "    </tr>\n",
       "    <tr>\n",
       "      <th>2</th>\n",
       "      <td>Romagnolstd</td>\n",
       "      <td>Romagnol-std</td>\n",
       "      <td>roma1328</td>\n",
       "      <td>Romagnol</td>\n",
       "      <td>rgn</td>\n",
       "      <td>Eurasia</td>\n",
       "      <td>44.234900</td>\n",
       "      <td>11.718900</td>\n",
       "      <td>Indo-European</td>\n",
       "      <td>logos</td>\n",
       "      <td>627.0</td>\n",
       "    </tr>\n",
       "    <tr>\n",
       "      <th>3</th>\n",
       "      <td>Latinstd</td>\n",
       "      <td>Latin-std</td>\n",
       "      <td>lati1261</td>\n",
       "      <td>Latin</td>\n",
       "      <td>lat</td>\n",
       "      <td>Eurasia</td>\n",
       "      <td>41.902600</td>\n",
       "      <td>12.450200</td>\n",
       "      <td>Indo-European</td>\n",
       "      <td>logos</td>\n",
       "      <td>4304.0</td>\n",
       "    </tr>\n",
       "    <tr>\n",
       "      <th>4</th>\n",
       "      <td>Galicianstd</td>\n",
       "      <td>Galician-std</td>\n",
       "      <td>gali1258</td>\n",
       "      <td>Galician</td>\n",
       "      <td>glg</td>\n",
       "      <td>Eurasia</td>\n",
       "      <td>42.244600</td>\n",
       "      <td>-7.534300</td>\n",
       "      <td>Indo-European</td>\n",
       "      <td>logos</td>\n",
       "      <td>620.0</td>\n",
       "    </tr>\n",
       "  </tbody>\n",
       "</table>\n",
       "</div>"
      ],
      "text/plain": [
       "            ID          Name Glottocode Glottolog_Name ISO639P3code Macroarea  \\\n",
       "0  Venetianstd  Venetian-std   vene1258       Venetian          vec   Eurasia   \n",
       "1     Hindistd     Hindi-std   hind1269          Hindi          hin   Eurasia   \n",
       "2  Romagnolstd  Romagnol-std   roma1328       Romagnol          rgn   Eurasia   \n",
       "3     Latinstd     Latin-std   lati1261          Latin          lat   Eurasia   \n",
       "4  Galicianstd  Galician-std   gali1258       Galician          glg   Eurasia   \n",
       "\n",
       "    Latitude  Longitude         Family dataset_ID  Form_count  \n",
       "0  45.503581  12.214167  Indo-European      logos       625.0  \n",
       "1  25.000000  77.000000  Indo-European      logos      3831.0  \n",
       "2  44.234900  11.718900  Indo-European      logos       627.0  \n",
       "3  41.902600  12.450200  Indo-European      logos      4304.0  \n",
       "4  42.244600  -7.534300  Indo-European      logos       620.0  "
      ]
     },
     "execution_count": 69,
     "metadata": {},
     "output_type": "execute_result"
    }
   ],
   "source": [
    "#add the form counts to the language dataframe for sampling\n",
    "l_df['Form_count'] = l_df.Glottocode.map(form_count_dict)\n",
    "l_df.head()"
   ]
  },
  {
   "cell_type": "code",
   "execution_count": 70,
   "id": "a8b4c097-5ea9-4aca-8baf-37e9e8b18deb",
   "metadata": {},
   "outputs": [
    {
     "data": {
      "text/plain": [
       "627"
      ]
     },
     "execution_count": 70,
     "metadata": {},
     "output_type": "execute_result"
    }
   ],
   "source": [
    "#check that it worked correctly, should be 627\n",
    "form_count_dict['roma1328']"
   ]
  },
  {
   "cell_type": "markdown",
   "id": "cdf48be2-f8e3-41be-8074-ede01aa1bfa8",
   "metadata": {},
   "source": [
    "Papuanesian languages are heavily represented in this dataset, so I'm going to put a cap on how many we can get in our sample so we can explore across more areas of the world."
   ]
  },
  {
   "cell_type": "code",
   "execution_count": 83,
   "id": "6d9d617c-e682-440a-acba-371800be584e",
   "metadata": {},
   "outputs": [],
   "source": [
    "#take a random sample of 100 languages that have lat/longitude, macroarea, and family info\n",
    "#and have lots of data\n",
    "l_df_sample = l_df[(~l_df.Latitude.isnull()) & (~l_df.Family.isnull()) & \n",
    "        (~l_df.Macroarea.isnull()) & (l_df.Form_count >800) & (l_df.Macroarea != 'Papunesia')].sample(90)"
   ]
  },
  {
   "cell_type": "code",
   "execution_count": 84,
   "id": "e3fe8a42-c404-4685-89bb-b86c70b9cac0",
   "metadata": {},
   "outputs": [],
   "source": [
    "l_df_sample_pn = l_df[(~l_df.Latitude.isnull()) & (~l_df.Family.isnull()) & \n",
    "        (~l_df.Macroarea.isnull()) & (l_df.Form_count >800) & (l_df.Macroarea == 'Papunesia')].sample(10)"
   ]
  },
  {
   "cell_type": "code",
   "execution_count": 85,
   "id": "73b46872-dc68-406d-bc8f-15df50621026",
   "metadata": {},
   "outputs": [
    {
     "data": {
      "text/html": [
       "<div>\n",
       "<style scoped>\n",
       "    .dataframe tbody tr th:only-of-type {\n",
       "        vertical-align: middle;\n",
       "    }\n",
       "\n",
       "    .dataframe tbody tr th {\n",
       "        vertical-align: top;\n",
       "    }\n",
       "\n",
       "    .dataframe thead th {\n",
       "        text-align: right;\n",
       "    }\n",
       "</style>\n",
       "<table border=\"1\" class=\"dataframe\">\n",
       "  <thead>\n",
       "    <tr style=\"text-align: right;\">\n",
       "      <th></th>\n",
       "      <th>ID</th>\n",
       "      <th>Name</th>\n",
       "      <th>Glottocode</th>\n",
       "      <th>Glottolog_Name</th>\n",
       "      <th>ISO639P3code</th>\n",
       "      <th>Macroarea</th>\n",
       "      <th>Latitude</th>\n",
       "      <th>Longitude</th>\n",
       "      <th>Family</th>\n",
       "      <th>dataset_ID</th>\n",
       "      <th>Form_count</th>\n",
       "    </tr>\n",
       "  </thead>\n",
       "  <tbody>\n",
       "    <tr>\n",
       "      <th>0</th>\n",
       "      <td>Jinghpaw</td>\n",
       "      <td>Jinghpo</td>\n",
       "      <td>kach1280</td>\n",
       "      <td>Jinghpaw</td>\n",
       "      <td>kac</td>\n",
       "      <td>Eurasia</td>\n",
       "      <td>25.4634</td>\n",
       "      <td>97.32780</td>\n",
       "      <td>Sino-Tibetan</td>\n",
       "      <td>satterthwaitetb</td>\n",
       "      <td>2054.0</td>\n",
       "    </tr>\n",
       "    <tr>\n",
       "      <th>1</th>\n",
       "      <td>Kanuri</td>\n",
       "      <td>Kanuri</td>\n",
       "      <td>cent2050</td>\n",
       "      <td>Central Kanuri</td>\n",
       "      <td>knc</td>\n",
       "      <td>Africa</td>\n",
       "      <td>11.8863</td>\n",
       "      <td>16.39180</td>\n",
       "      <td>Saharan</td>\n",
       "      <td>wold</td>\n",
       "      <td>1590.0</td>\n",
       "    </tr>\n",
       "    <tr>\n",
       "      <th>2</th>\n",
       "      <td>spa</td>\n",
       "      <td>Spanish</td>\n",
       "      <td>stan1288</td>\n",
       "      <td>Spanish</td>\n",
       "      <td>spa</td>\n",
       "      <td>Eurasia</td>\n",
       "      <td>40.4414</td>\n",
       "      <td>-1.11788</td>\n",
       "      <td>Indo-European</td>\n",
       "      <td>northeuralex</td>\n",
       "      <td>3206.0</td>\n",
       "    </tr>\n",
       "    <tr>\n",
       "      <th>3</th>\n",
       "      <td>221</td>\n",
       "      <td>Polci</td>\n",
       "      <td>polc1243</td>\n",
       "      <td>Polci</td>\n",
       "      <td>plj</td>\n",
       "      <td>Africa</td>\n",
       "      <td>10.0258</td>\n",
       "      <td>9.53362</td>\n",
       "      <td>Afro-Asiatic</td>\n",
       "      <td>ids</td>\n",
       "      <td>1990.0</td>\n",
       "    </tr>\n",
       "    <tr>\n",
       "      <th>4</th>\n",
       "      <td>BijiangNusu</td>\n",
       "      <td>Nusu (Bijiang)</td>\n",
       "      <td>nusu1239</td>\n",
       "      <td>Nusu</td>\n",
       "      <td>nuf</td>\n",
       "      <td>Eurasia</td>\n",
       "      <td>26.7292</td>\n",
       "      <td>98.88010</td>\n",
       "      <td>Sino-Tibetan</td>\n",
       "      <td>suntb</td>\n",
       "      <td>1290.0</td>\n",
       "    </tr>\n",
       "  </tbody>\n",
       "</table>\n",
       "</div>"
      ],
      "text/plain": [
       "            ID            Name Glottocode  Glottolog_Name ISO639P3code  \\\n",
       "0     Jinghpaw         Jinghpo   kach1280        Jinghpaw          kac   \n",
       "1       Kanuri          Kanuri   cent2050  Central Kanuri          knc   \n",
       "2          spa         Spanish   stan1288         Spanish          spa   \n",
       "3          221           Polci   polc1243           Polci          plj   \n",
       "4  BijiangNusu  Nusu (Bijiang)   nusu1239            Nusu          nuf   \n",
       "\n",
       "  Macroarea  Latitude  Longitude         Family       dataset_ID  Form_count  \n",
       "0   Eurasia   25.4634   97.32780   Sino-Tibetan  satterthwaitetb      2054.0  \n",
       "1    Africa   11.8863   16.39180        Saharan             wold      1590.0  \n",
       "2   Eurasia   40.4414   -1.11788  Indo-European     northeuralex      3206.0  \n",
       "3    Africa   10.0258    9.53362   Afro-Asiatic              ids      1990.0  \n",
       "4   Eurasia   26.7292   98.88010   Sino-Tibetan            suntb      1290.0  "
      ]
     },
     "execution_count": 85,
     "metadata": {},
     "output_type": "execute_result"
    }
   ],
   "source": [
    "#let's reset the indexes since they're scrambled and look at the head of the new df\n",
    "sample_df = pd.concat([l_df_sample, l_df_sample_pn], ignore_index=True, sort=False)\n",
    "sample_df = sample_df.reset_index(drop=True)\n",
    "sample_df.head()"
   ]
  },
  {
   "cell_type": "code",
   "execution_count": 86,
   "id": "0e2442ba-05df-464a-9b31-1ee7243a5c65",
   "metadata": {},
   "outputs": [
    {
     "data": {
      "text/plain": [
       "Macroarea\n",
       "Eurasia          61\n",
       "Africa           14\n",
       "South America    11\n",
       "Papunesia        10\n",
       "North America     4\n",
       "Name: count, dtype: int64"
      ]
     },
     "execution_count": 86,
     "metadata": {},
     "output_type": "execute_result"
    }
   ],
   "source": [
    "#let's look at the distribution\n",
    "sample_df.Macroarea.value_counts()"
   ]
  },
  {
   "cell_type": "code",
   "execution_count": 87,
   "id": "9eaa14a5-6202-4f96-91b8-46b4f0bc57c8",
   "metadata": {},
   "outputs": [
    {
     "data": {
      "text/plain": [
       "Family\n",
       "Indo-European               25\n",
       "Nakh-Daghestanian           10\n",
       "Atlantic-Congo              10\n",
       "Sino-Tibetan                 8\n",
       "Nuclear Trans New Guinea     6\n",
       "Uralic                       5\n",
       "Hmong-Mien                   5\n",
       "Tai-Kadai                    4\n",
       "Turkic                       2\n",
       "Afro-Asiatic                 2\n",
       "Austronesian                 2\n",
       "Cariban                      2\n",
       "Pano-Tacanan                 2\n",
       "Ambakich                     1\n",
       "Otomanguean                  1\n",
       "South Bird's Head Family     1\n",
       "Chapacuran                   1\n",
       "Páez                         1\n",
       "Dravidian                    1\n",
       "Matacoan                     1\n",
       "Waorani                      1\n",
       "Tucanoan                     1\n",
       "Eskimo-Aleut                 1\n",
       "Seri                         1\n",
       "Saharan                      1\n",
       "Chibchan                     1\n",
       "Tsimshian                    1\n",
       "Basque                       1\n",
       "Puinave                      1\n",
       "Timor-Alor-Pantar            1\n",
       "Name: count, dtype: int64"
      ]
     },
     "execution_count": 87,
     "metadata": {},
     "output_type": "execute_result"
    }
   ],
   "source": [
    "sample_df.Family.value_counts()"
   ]
  },
  {
   "cell_type": "code",
   "execution_count": null,
   "id": "9eb58b61-4c45-4faf-8746-3b9bd46b1d2d",
   "metadata": {},
   "outputs": [],
   "source": [
    "#Shows the languages where they're located according to the data, colored by language family\n",
    "#Hold mouse over dot to see lanuage name, you can also pan and zoom\n",
    "fig = px.scatter_geo(l_df, lat='Latitude', lon='Longitude', color='Family_factor',\n",
    "                     hover_name='Name', #size=... could use to show number of concepts per lang,\n",
    "                     title='Languages by location', width=870, height=600)\n",
    "fig.show()"
   ]
  },
  {
   "cell_type": "code",
   "execution_count": null,
   "id": "70a27375-5a4f-4215-9777-05a9e32cbe3b",
   "metadata": {},
   "outputs": [],
   "source": []
  },
  {
   "cell_type": "code",
   "execution_count": 23,
   "id": "98700bf6-09e6-4ff4-a40a-4fb85172cf47",
   "metadata": {},
   "outputs": [
    {
     "data": {
      "text/plain": [
       "Macroarea\n",
       "Papunesia        61\n",
       "Eurasia          16\n",
       "Africa           12\n",
       "South America     6\n",
       "Australia         4\n",
       "North America     1\n",
       "Name: count, dtype: int64"
      ]
     },
     "execution_count": 23,
     "metadata": {},
     "output_type": "execute_result"
    }
   ],
   "source": [
    "l_df_sample.Macroarea.value_counts()"
   ]
  },
  {
   "cell_type": "markdown",
   "id": "bb9f1762-8217-4316-a29a-8ba568ab2a44",
   "metadata": {},
   "source": []
  },
  {
   "cell_type": "code",
   "execution_count": null,
   "id": "44058fd7-761e-4f55-8829-c4430a093edd",
   "metadata": {},
   "outputs": [],
   "source": [
    "#glottocode should be a string of the glottocode for the target language\n",
    "def build_lang_df(glottocode):\n",
    "    lang_forms = pd.DataFrame(f_df.loc[f_df.Glottocode == glottocode,['Colex_Key', 'dataset_ID', 'Form']])\n",
    "    #drop duplicates of the same form\n",
    "\n",
    "    #the part that takes a while\n",
    "    lang_forms = lang_forms.drop_duplicates(subset=[\"Colex_Key\"])\n",
    "    lang_forms['Colex_IDs'] = lang_forms.Colex_Key.map(lambda x: set(f_df.Concepticon_ID[f_df.Colex_Key == x].to_list()))\n",
    "\n",
    "    lang_forms['Num_concepts'] = lang_forms.Colex_IDs.map(lambda x: len(x))\n",
    "    #get only colexifications\n",
    "    lang_forms = pd.DataFrame(lang_forms[lang_forms.Num_concepts > 1])\n",
    "    #sort df and reset index\n",
    "    lang_forms = lang_forms.sort_values('Colex_Key')\n",
    "    lang_forms = lang_forms.reset_index(drop=True)\n",
    "    #get the glosses for the concepts\n",
    "    lang_forms['Concept_names'] = lang_forms.Colex_IDs.map(lambda x: \n",
    "                                                     [p_df.Concepticon_Gloss[(p_df.Concepticon_ID == y)].iloc[0] for y in x])\n",
    "    #get semantic field, ontological category\n",
    "    lang_forms['Semantic_field'] = lang_forms.Colex_IDs.map(lambda x: \n",
    "                                                     [p_df.Semantic_Field[(p_df.Concepticon_ID == y)].iloc[0] for y in x])\n",
    "    lang_forms['Ontological_category'] = lang_forms.Colex_IDs.map(lambda x: \n",
    "                                                     [p_df.Ontological_Category[(p_df.Concepticon_ID == y)].iloc[0] for y in x])\n",
    "    return lang_forms"
   ]
  },
  {
   "cell_type": "code",
   "execution_count": null,
   "id": "68c9c44a-4423-44ae-ac39-714d3c14b7ec",
   "metadata": {},
   "outputs": [],
   "source": [
    "#now make a function for the semantic field and ontological category dictionaries\n",
    "#inputs are the column (the string name) and the df to count for\n",
    "def build_dict_counts(column, df):\n",
    "    counts = defaultdict(int)\n",
    "    for colex in df[column].to_list(): \n",
    "        #sort it alphabetically\n",
    "        colex.sort()\n",
    "        counts[colex[0] + ':' + colex[1]] += 1\n",
    "    return counts\n",
    "\n",
    "#make this so that you have a list with each possible combo, make a vector rep indexed by this list for each df"
   ]
  }
 ],
 "metadata": {
  "kernelspec": {
   "display_name": "Python 3 (ipykernel)",
   "language": "python",
   "name": "python3"
  },
  "language_info": {
   "codemirror_mode": {
    "name": "ipython",
    "version": 3
   },
   "file_extension": ".py",
   "mimetype": "text/x-python",
   "name": "python",
   "nbconvert_exporter": "python",
   "pygments_lexer": "ipython3",
   "version": "3.8.18"
  }
 },
 "nbformat": 4,
 "nbformat_minor": 5
}
